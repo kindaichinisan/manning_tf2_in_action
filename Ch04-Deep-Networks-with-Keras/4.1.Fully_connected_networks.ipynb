{
 "cells": [
  {
   "cell_type": "markdown",
   "metadata": {},
   "source": [
    "# Chapter 4: Dipping Toes in Deep Learning\n",
    "\n",
    "## Fully-Connected Neural Networks\n",
    "\n",
    "We have already discussed a type of fully-connected neural network (i.e. multi-layer perceptron) in Chapter 1. In this chapter we will learn about a new type of fully-connected neural network; an *autoencoder* model. An autoencoder is primarly used to be trained in an unsupervised fashion. This means the model can be trained just using inputs, and no labels. \n",
    "\n",
    "In this chapter, you will train an autoencoder to reconstruct images. Specifically, the autoencoder takes the image data, compress it to a small latent space and then reconstruct the image from the compressed latent space values. This is a great way to provide useful features using unsupervised data, for supervised models. For this task we will be using a popular hand-written digit dataset known as MNIST (https://en.wikipedia.org/wiki/MNIST_database).\n",
    "\n",
    "<table align=\"left\">\n",
    "    <td>\n",
    "        <a target=\"_blank\" href=\"https://colab.research.google.com/github/thushv89/manning_tf2_in_action/blob/master/Ch04-Deep-Networks-with-Keras/4.1.Fully_connected_networks.ipynb\"><img src=\"https://www.tensorflow.org/images/colab_logo_32px.png\" />Run in Google Colab</a>\n",
    "    </td>\n",
    "</table>"
   ]
  },
  {
   "cell_type": "markdown",
   "metadata": {},
   "source": [
    "## Import necessary libraries"
   ]
  },
  {
   "cell_type": "code",
   "execution_count": 1,
   "metadata": {},
   "outputs": [
    {
     "name": "stdout",
     "output_type": "stream",
     "text": [
      "TensorFlow version: 2.9.0\n"
     ]
    }
   ],
   "source": [
    "import random\n",
    "import tensorflow as tf\n",
    "from tensorflow.keras.datasets.mnist import load_data\n",
    "import tensorflow_datasets as tfds\n",
    "import numpy as np\n",
    "import matplotlib.pyplot as plt\n",
    "from tensorflow.keras import layers, models\n",
    "import tensorflow.keras.backend as K\n",
    "%matplotlib inline\n",
    "\n",
    "def fix_random_seed(seed):\n",
    "    \"\"\" Setting the random seed of various libraries \"\"\"\n",
    "    try:\n",
    "        np.random.seed(seed)\n",
    "    except NameError:\n",
    "        print(\"Warning: Numpy is not imported. Setting the seed for Numpy failed.\")\n",
    "    try:\n",
    "        tf.random.set_seed(seed)\n",
    "    except NameError:\n",
    "        print(\"Warning: TensorFlow is not imported. Setting the seed for TensorFlow failed.\")\n",
    "    try:\n",
    "        random.seed(seed)\n",
    "    except NameError:\n",
    "        print(\"Warning: random module is not imported. Setting the seed for random failed.\")\n",
    "   \n",
    "# Fixing the random seed\n",
    "fix_random_seed(4321)\n",
    "print(\"TensorFlow version: {}\".format(tf.__version__))"
   ]
  },
  {
   "cell_type": "markdown",
   "metadata": {},
   "source": [
    "## Loading MNIST data\n",
    "\n",
    "Let's load the dataset using Keras. Due to the popularity of the dataset, many utility functions can be found to load the dataset with just a single line of code. `x_train` and `x_test` contains 28x28 sized images of hand-written digits and `y_train` and `y_test` contains the inter number representing that image (the label)."
   ]
  },
  {
   "cell_type": "code",
   "execution_count": 2,
   "metadata": {},
   "outputs": [],
   "source": [
    "# Section 4.1\n",
    "\n",
    "# Loading the data\n",
    "from tensorflow.keras.datasets.mnist import load_data\n",
    "(x_train, y_train), (x_test, y_test) = load_data()"
   ]
  },
  {
   "cell_type": "code",
   "execution_count": 3,
   "metadata": {},
   "outputs": [
    {
     "name": "stdout",
     "output_type": "stream",
     "text": [
      "[[[0 0 0 ... 0 0 0]\n",
      "  [0 0 0 ... 0 0 0]\n",
      "  [0 0 0 ... 0 0 0]\n",
      "  ...\n",
      "  [0 0 0 ... 0 0 0]\n",
      "  [0 0 0 ... 0 0 0]\n",
      "  [0 0 0 ... 0 0 0]]\n",
      "\n",
      " [[0 0 0 ... 0 0 0]\n",
      "  [0 0 0 ... 0 0 0]\n",
      "  [0 0 0 ... 0 0 0]\n",
      "  ...\n",
      "  [0 0 0 ... 0 0 0]\n",
      "  [0 0 0 ... 0 0 0]\n",
      "  [0 0 0 ... 0 0 0]]\n",
      "\n",
      " [[0 0 0 ... 0 0 0]\n",
      "  [0 0 0 ... 0 0 0]\n",
      "  [0 0 0 ... 0 0 0]\n",
      "  ...\n",
      "  [0 0 0 ... 0 0 0]\n",
      "  [0 0 0 ... 0 0 0]\n",
      "  [0 0 0 ... 0 0 0]]\n",
      "\n",
      " ...\n",
      "\n",
      " [[0 0 0 ... 0 0 0]\n",
      "  [0 0 0 ... 0 0 0]\n",
      "  [0 0 0 ... 0 0 0]\n",
      "  ...\n",
      "  [0 0 0 ... 0 0 0]\n",
      "  [0 0 0 ... 0 0 0]\n",
      "  [0 0 0 ... 0 0 0]]\n",
      "\n",
      " [[0 0 0 ... 0 0 0]\n",
      "  [0 0 0 ... 0 0 0]\n",
      "  [0 0 0 ... 0 0 0]\n",
      "  ...\n",
      "  [0 0 0 ... 0 0 0]\n",
      "  [0 0 0 ... 0 0 0]\n",
      "  [0 0 0 ... 0 0 0]]\n",
      "\n",
      " [[0 0 0 ... 0 0 0]\n",
      "  [0 0 0 ... 0 0 0]\n",
      "  [0 0 0 ... 0 0 0]\n",
      "  ...\n",
      "  [0 0 0 ... 0 0 0]\n",
      "  [0 0 0 ... 0 0 0]\n",
      "  [0 0 0 ... 0 0 0]]]\n",
      "x_train has shape: (60000, 28, 28)\n",
      "\n",
      "\n",
      "[5 0 4 ... 5 6 8]\n",
      "y_train has shape: (60000,)\n"
     ]
    }
   ],
   "source": [
    "# Print x_train and y_train\n",
    "print(x_train)\n",
    "print('x_train has shape: {}'.format(x_train.shape))\n",
    "print('\\n')\n",
    "print(y_train)\n",
    "print('y_train has shape: {}'.format(y_train.shape))"
   ]
  },
  {
   "cell_type": "markdown",
   "metadata": {},
   "source": [
    "## Transforming MNIST data\n",
    "\n",
    "This is an important step. We do two important things here.\n",
    "\n",
    "* Unwrap the (28x28) image into a 1-dimensional 784 vector (because fully-connected networks need a 1-dimensional input).\n",
    "* Normalize the input by subtracting 128 and dividing by 128. This is because the pixel values are between [0,255]."
   ]
  },
  {
   "cell_type": "code",
   "execution_count": 4,
   "metadata": {},
   "outputs": [],
   "source": [
    "# Section 4.1\n",
    "\n",
    "# Some simple preprocessing on the data\n",
    "norm_x_train = ((x_train - 128.0)/128.0).reshape([-1,784])"
   ]
  },
  {
   "cell_type": "markdown",
   "metadata": {},
   "source": [
    "## Extracting a small sample and plotting the data\n",
    "\n",
    "Here we will plot some of the data to get an idea of what we are dealing with."
   ]
  },
  {
   "cell_type": "code",
   "execution_count": 5,
   "metadata": {},
   "outputs": [],
   "source": [
    "# Section 4.1\n",
    "\n",
    "# We will extract a small sample from the training data to inspect visually\n",
    "sample_images, sample_labels = [],[]\n",
    "for i, (img, lbl) in enumerate(zip(x_train, y_train)):\n",
    "    sample_images.append(img)\n",
    "    sample_labels.append(lbl)\n",
    "    if i>=9: break"
   ]
  },
  {
   "cell_type": "code",
   "execution_count": 6,
   "metadata": {},
   "outputs": [
    {
     "data": {
      "image/png": "[encoded data removed]",
      "text/plain": [
       "<Figure size 864x288 with 10 Axes>"
      ]
     },
     "metadata": {
      "needs_background": "light"
     },
     "output_type": "display_data"
    }
   ],
   "source": [
    "import matplotlib.pyplot as plt\n",
    "# Plotting the images\n",
    "f, axes = plt.subplots(2, 5, figsize=(12,4))\n",
    "for i, (img, lbl) in enumerate(zip(sample_images, sample_labels)):\n",
    "    r, c = i//5, i%5\n",
    "    axes[r,c].imshow(img,cmap='gray')\n",
    "    axes[r,c].axis('off')\n",
    "    axes[r,c].set_title(\"Label {}\".format(lbl))"
   ]
  },
  {
   "cell_type": "markdown",
   "metadata": {},
   "source": [
    "## Creating corrupted images"
   ]
  },
  {
   "cell_type": "code",
   "execution_count": 7,
   "metadata": {},
   "outputs": [
    {
     "data": {
      "image/png": "[encoded data removed]",
      "text/plain": [
       "<Figure size 864x288 with 10 Axes>"
      ]
     },
     "metadata": {
      "needs_background": "light"
     },
     "output_type": "display_data"
    }
   ],
   "source": [
    "# Section 4.1\n",
    "\n",
    "import numpy as np\n",
    "import matplotlib.pyplot as plt\n",
    "%matplotlib inline\n",
    "\n",
    "x_train_sample = x_train[:10]\n",
    "y_train_sample = y_train[:10]\n",
    "\n",
    "def generate_masked_inputs(x, p, seed=None):\n",
    "    \"\"\" This function applies a binary mask to the input and generate corrupted images \"\"\"\n",
    "    # Fixing the seed\n",
    "    if seed:\n",
    "        np.random.seed(seed)\n",
    "    # Generating a mask using the binomial distribution\n",
    "    mask = np.random.binomial(n=1, p=p, size=x.shape).astype('float32')\n",
    "    return x * mask\n",
    "\n",
    "# Create a training dataset of corrupted images\n",
    "masked_x_train_sample = generate_masked_inputs(x_train_sample, 0.5)\n",
    "\n",
    "# Plotting some of the images\n",
    "f, axes = plt.subplots(2, 5, figsize=(12,4))\n",
    "for i, (img, lbl) in enumerate(zip(masked_x_train_sample, y_train_sample)):\n",
    "    r, c = i//5, i%5\n",
    "    axes[r,c].imshow(img,cmap='gray')\n",
    "    axes[r,c].axis('off')\n",
    "    axes[r,c].set_title(\"Label {}\".format(lbl))"
   ]
  },
  {
   "cell_type": "markdown",
   "metadata": {},
   "source": [
    "## Defining the autoencoder model\n",
    "\n",
    "Now it's time to define the model. We will define a simple autoencoder model. This model has the following layers.\n",
    "\n",
    "* A Dense layer with 64 nodes and `relu` activation\n",
    "* A Dense layer with 32 nodes and `relu` activation\n",
    "* A Dense layer with 64 nodes and `relu` activation\n",
    "* A Dense layer with 784 nodes and `tanh` activation (i.e. the layer that reconstructs the images)\n",
    "\n",
    "Finally, we will compile the model with mean squared error (mse) loss and the `adam` optimizer."
   ]
  },
  {
   "cell_type": "code",
   "execution_count": 8,
   "metadata": {},
   "outputs": [
    {
     "name": "stdout",
     "output_type": "stream",
     "text": [
      "Model: \"sequential\"\n",
      "_________________________________________________________________\n",
      " Layer (type)                Output Shape              Param #   \n",
      "=================================================================\n",
      " dense (Dense)               (None, 64)                50240     \n",
      "                                                                 \n",
      " dense_1 (Dense)             (None, 32)                2080      \n",
      "                                                                 \n",
      " dense_2 (Dense)             (None, 64)                2112      \n",
      "                                                                 \n",
      " dense_3 (Dense)             (None, 784)               50960     \n",
      "                                                                 \n",
      "=================================================================\n",
      "Total params: 105,392\n",
      "Trainable params: 105,392\n",
      "Non-trainable params: 0\n",
      "_________________________________________________________________\n"
     ]
    }
   ],
   "source": [
    "# Section 4.1\n",
    "# Code listing 4.1 \n",
    "\n",
    "from tensorflow.keras import layers, models\n",
    "import tensorflow.keras.backend as K\n",
    "\n",
    "K.clear_session()\n",
    "\n",
    "# Defining the model\n",
    "autoencoder = models.Sequential(\n",
    "    [layers.Dense(64, activation='relu', input_shape=(784,)),\n",
    "    layers.Dense(32, activation='relu'),\n",
    "    layers.Dense(64, activation='relu'),\n",
    "    layers.Dense(784, activation='tanh')]\n",
    ")\n",
    "\n",
    "# Compiling the model\n",
    "autoencoder.compile(loss='mse', optimizer='adam')\n",
    "\n",
    "# Printing the model summary\n",
    "autoencoder.summary()"
   ]
  },
  {
   "cell_type": "markdown",
   "metadata": {},
   "source": [
    "## Training the model\n",
    "\n",
    "Training the model is simple. You call the `fit()` method with the correct data. Note how the input and the output to the model are the same. This is because we are trying to construct the exact same input as the output of the model. We are using a batch size of 64 and 10 epochs."
   ]
  },
  {
   "cell_type": "code",
   "execution_count": 9,
   "metadata": {},
   "outputs": [
    {
     "name": "stdout",
     "output_type": "stream",
     "text": [
      "Epoch 1/10\n",
      "938/938 [==============================] - 5s 2ms/step - loss: 0.1499\n",
      "Epoch 2/10\n",
      "938/938 [==============================] - 2s 2ms/step - loss: 0.0996\n",
      "Epoch 3/10\n",
      "938/938 [==============================] - 2s 2ms/step - loss: 0.0904\n",
      "Epoch 4/10\n",
      "938/938 [==============================] - 2s 2ms/step - loss: 0.0858\n",
      "Epoch 5/10\n",
      "938/938 [==============================] - 2s 2ms/step - loss: 0.0833\n",
      "Epoch 6/10\n",
      "938/938 [==============================] - 2s 2ms/step - loss: 0.0818\n",
      "Epoch 7/10\n",
      "938/938 [==============================] - 2s 2ms/step - loss: 0.0803\n",
      "Epoch 8/10\n",
      "938/938 [==============================] - 2s 2ms/step - loss: 0.0788\n",
      "Epoch 9/10\n",
      "938/938 [==============================] - 2s 2ms/step - loss: 0.0777\n",
      "Epoch 10/10\n",
      "938/938 [==============================] - 2s 2ms/step - loss: 0.0768\n"
     ]
    }
   ],
   "source": [
    "# Section 4.1\n",
    "\n",
    "# Generating the corrupted version of norm_x_train to be used as training inputs\n",
    "masked_x_train = generate_masked_inputs(norm_x_train, 0.5, seed=1024)\n",
    "# Fit the model\n",
    "history = autoencoder.fit(masked_x_train, norm_x_train, batch_size=64, epochs=10)"
   ]
  },
  {
   "cell_type": "markdown",
   "metadata": {},
   "source": [
    "## Plotting the loss over time\n",
    "\n",
    "It is quite clear that our model is learning. You can see the loss steadily going down."
   ]
  },
  {
   "cell_type": "code",
   "execution_count": 10,
   "metadata": {},
   "outputs": [
    {
     "data": {
      "text/plain": [
       "Text(0.5, 1.0, 'Autoencoder reconstruction loss for MNIST dataset')"
      ]
     },
     "execution_count": 10,
     "metadata": {},
     "output_type": "execute_result"
    },
    {
     "data": {
      "image/png": "[encoded data removed]",
      "text/plain": [
       "<Figure size 432x288 with 1 Axes>"
      ]
     },
     "metadata": {
      "needs_background": "light"
     },
     "output_type": "display_data"
    }
   ],
   "source": [
    "# Section 4.1\n",
    "\n",
    "# Plotting the loss\n",
    "plt.plot(np.arange(1,11), history.history[\"loss\"])\n",
    "plt.xlabel(\"Epoch\")\n",
    "plt.ylabel(\"Reconstruction loss\")\n",
    "plt.title(\"Autoencoder reconstruction loss for MNIST dataset\")"
   ]
  },
  {
   "cell_type": "markdown",
   "metadata": {},
   "source": [
    "## Predicting restorations of the corrupted images from the network\n",
    "\n",
    "Great we have a trained model. Now let's get a small sample of images, corrupt them with a mask and then ask the model to predict the correct restoration of the images."
   ]
  },
  {
   "cell_type": "code",
   "execution_count": 11,
   "metadata": {},
   "outputs": [
    {
     "name": "stdout",
     "output_type": "stream",
     "text": [
      "1875/1875 [==============================] - 2s 885us/step\n"
     ]
    }
   ],
   "source": [
    "# Section 4.1\n",
    "\n",
    "# We will use the first 10 samples in our dataset to test the model\n",
    "x_train_sample = x_train[:10]\n",
    "y_train_sample = y_train[:10]\n",
    "\n",
    "# Generating corrupted images using a previously unseen mask\n",
    "masked_x_train_sample = generate_masked_inputs(x_train_sample, 0.5, seed=2048)\n",
    "norm_masked_x = ((x_train - 128.0)/128.0).reshape(-1, 784)\n",
    "\n",
    "# Predicting the restored images from corrupted images\n",
    "y_pred = autoencoder.predict(norm_masked_x)    "
   ]
  },
  {
   "cell_type": "code",
   "execution_count": 12,
   "metadata": {},
   "outputs": [
    {
     "name": "stdout",
     "output_type": "stream",
     "text": [
      "[[-1.        -1.        -1.        ... -1.        -1.        -1.       ]\n",
      " [-1.        -1.        -1.        ... -1.        -1.        -1.       ]\n",
      " [-1.        -0.9999995 -1.        ... -0.9999993 -1.        -1.       ]\n",
      " ...\n",
      " [-1.        -1.        -1.        ... -1.        -1.        -1.       ]\n",
      " [-1.        -1.        -1.        ... -1.        -1.        -1.       ]\n",
      " [-1.        -1.        -1.        ... -1.        -1.        -1.       ]]\n",
      "y_pred has shape: (60000, 784)\n"
     ]
    }
   ],
   "source": [
    "print(y_pred)\n",
    "print('y_pred has shape: {}'.format(y_pred.shape))"
   ]
  },
  {
   "cell_type": "markdown",
   "metadata": {},
   "source": [
    "## Plotting the model predictions\n",
    "\n",
    "`y_pred` is holding the predictions we made. Let's plot them now and visually inspect if our model has done a good job."
   ]
  },
  {
   "cell_type": "code",
   "execution_count": 13,
   "metadata": {},
   "outputs": [
    {
     "data": {
      "image/png": "[encoded data removed]",
      "text/plain": [
       "<Figure size 1296x288 with 20 Axes>"
      ]
     },
     "metadata": {
      "needs_background": "light"
     },
     "output_type": "display_data"
    }
   ],
   "source": [
    "# Section 4.1\n",
    "\n",
    "# Plotting the corrupted and restored images side-by-side\n",
    "f, axes = plt.subplots(2, 10, figsize=(18,4))\n",
    "for i, (img, res) in enumerate(zip(masked_x_train_sample, y_pred)):\n",
    "    r1, c1 = 0, i\n",
    "    r2, c2 = 1, i\n",
    "    axes[r1,c1].imshow(img,cmap='gray')\n",
    "    axes[r1,c1].axis('off')\n",
    "    \n",
    "    res = ((res * 128.0)+128.0).reshape(28,28)\n",
    "    axes[r2,c2].imshow(res,cmap='gray')\n",
    "    axes[r2,c2].axis('off')"
   ]
  },
  {
   "cell_type": "code",
   "execution_count": null,
   "metadata": {},
   "outputs": [],
   "source": []
  },
  {
   "cell_type": "code",
   "execution_count": null,
   "metadata": {},
   "outputs": [],
   "source": []
  }
 ],
 "metadata": {
  "kernelspec": {
   "display_name": "Python 3 (ipykernel)",
   "language": "python",
   "name": "python3"
  },
  "language_info": {
   "codemirror_mode": {
    "name": "ipython",
    "version": 3
   },
   "file_extension": ".py",
   "mimetype": "text/x-python",
   "name": "python",
   "nbconvert_exporter": "python",
   "pygments_lexer": "ipython3",
   "version": "3.10.4"
  }
 },
 "nbformat": 4,
 "nbformat_minor": 4
}
