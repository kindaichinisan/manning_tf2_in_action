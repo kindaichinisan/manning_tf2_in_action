{
 "cells": [
  {
   "cell_type": "markdown",
   "metadata": {},
   "source": [
    "# Chapter 3: Keras and Data Retrieval in TensorFlow 2"
   ]
  },
  {
   "cell_type": "markdown",
   "metadata": {},
   "source": [
    "<table align=\"left\">\n",
    "    <td>\n",
    "        <a target=\"_blank\" href=\"https://colab.research.google.com/github/thushv89/manning_tf2_in_action/blob/master/Ch03-Keras-and-Data-Retrieval/3.1.Keras_APIs.ipynb\"><img src=\"https://www.tensorflow.org/images/colab_logo_32px.png\" />Run in Google Colab</a>\n",
    "    </td>\n",
    "</table>"
   ]
  },
  {
   "cell_type": "markdown",
   "metadata": {},
   "source": [
    "## Library imports and some setup"
   ]
  },
  {
   "cell_type": "code",
   "execution_count": 1,
   "metadata": {},
   "outputs": [
    {
     "name": "stdout",
     "output_type": "stream",
     "text": [
      "TensorFlow version: 2.9.0\n"
     ]
    }
   ],
   "source": [
    "import numpy as np\n",
    "import tensorflow as tf\n",
    "import pandas as pd\n",
    "import random\n",
    "from sklearn.decomposition import PCA\n",
    "\n",
    "from tensorflow.keras import layers\n",
    "\n",
    "from PIL import Image\n",
    "import matplotlib.pyplot as plt\n",
    "%matplotlib inline\n",
    "import requests\n",
    "\n",
    "# Fixing the seed to obtain consistent random values during multiple runs\n",
    "\n",
    "from tensorflow.keras.layers import Input, Dense, Concatenate\n",
    "from tensorflow.keras.models import Model\n",
    "from tensorflow.keras.models import Sequential\n",
    "\n",
    "import tensorflow.keras.backend as K\n",
    "\n",
    "gpus = tf.config.experimental.list_physical_devices('GPU')\n",
    "if gpus:\n",
    "  # Restrict TensorFlow to only use the first GPU\n",
    "  try:\n",
    "    for gpu in gpus:\n",
    "      tf.config.experimental.set_memory_growth(gpu, True)\n",
    "  except RuntimeError as e:\n",
    "    # Visible devices must be set before GPUs have been initialized\n",
    "    print(e)\n",
    "\n",
    "    \n",
    "def fix_random_seed(seed):\n",
    "    \"\"\" Setting the random seed of various libraries \"\"\"\n",
    "    try:\n",
    "        np.random.seed(seed)\n",
    "    except NameError:\n",
    "        print(\"Warning: Numpy is not imported. Setting the seed for Numpy failed.\")\n",
    "    try:\n",
    "        tf.random.set_seed(seed)\n",
    "    except NameError:\n",
    "        print(\"Warning: TensorFlow is not imported. Setting the seed for TensorFlow failed.\")\n",
    "    try:\n",
    "        random.seed(seed)\n",
    "    except NameError:\n",
    "        print(\"Warning: random module is not imported. Setting the seed for random failed.\")\n",
    "\n",
    "# Fixing the random seed\n",
    "fix_random_seed(4321)\n",
    "print(\"TensorFlow version: {}\".format(tf.__version__))"
   ]
  },
  {
   "cell_type": "markdown",
   "metadata": {},
   "source": [
    "## Keras Model Building APIs\n",
    "\n",
    "### Understanding the data\n",
    "\n",
    "This is a famous dataset known as the *iris* dataset. The dataset records the petal width/length and sepal width/length for three different kinds of iris flowers.\n",
    "\n",
    "* Iris-setosa\n",
    "* Iris-versicolor\n",
    "* Iris-virginica\n",
    "\n",
    "The goal is to train a model that, given the petal width/length and sepal width/length, predicts the correct species of flower."
   ]
  },
  {
   "cell_type": "code",
   "execution_count": 2,
   "metadata": {},
   "outputs": [
    {
     "name": "stdout",
     "output_type": "stream",
     "text": [
      "['Iris-setosa' 'Iris-versicolor' 'Iris-virginica']\n"
     ]
    },
    {
     "data": {
      "text/html": [
       "<div>\n",
       "<style scoped>\n",
       "    .dataframe tbody tr th:only-of-type {\n",
       "        vertical-align: middle;\n",
       "    }\n",
       "\n",
       "    .dataframe tbody tr th {\n",
       "        vertical-align: top;\n",
       "    }\n",
       "\n",
       "    .dataframe thead th {\n",
       "        text-align: right;\n",
       "    }\n",
       "</style>\n",
       "<table border=\"1\" class=\"dataframe\">\n",
       "  <thead>\n",
       "    <tr style=\"text-align: right;\">\n",
       "      <th></th>\n",
       "      <th>sepal_length</th>\n",
       "      <th>sepal_width</th>\n",
       "      <th>petal_width</th>\n",
       "      <th>petal_length</th>\n",
       "      <th>label</th>\n",
       "    </tr>\n",
       "  </thead>\n",
       "  <tbody>\n",
       "    <tr>\n",
       "      <th>31</th>\n",
       "      <td>5.4</td>\n",
       "      <td>3.4</td>\n",
       "      <td>1.5</td>\n",
       "      <td>0.4</td>\n",
       "      <td>0</td>\n",
       "    </tr>\n",
       "    <tr>\n",
       "      <th>23</th>\n",
       "      <td>5.1</td>\n",
       "      <td>3.3</td>\n",
       "      <td>1.7</td>\n",
       "      <td>0.5</td>\n",
       "      <td>0</td>\n",
       "    </tr>\n",
       "    <tr>\n",
       "      <th>70</th>\n",
       "      <td>5.9</td>\n",
       "      <td>3.2</td>\n",
       "      <td>4.8</td>\n",
       "      <td>1.8</td>\n",
       "      <td>1</td>\n",
       "    </tr>\n",
       "    <tr>\n",
       "      <th>100</th>\n",
       "      <td>6.3</td>\n",
       "      <td>3.3</td>\n",
       "      <td>6.0</td>\n",
       "      <td>2.5</td>\n",
       "      <td>2</td>\n",
       "    </tr>\n",
       "    <tr>\n",
       "      <th>44</th>\n",
       "      <td>5.1</td>\n",
       "      <td>3.8</td>\n",
       "      <td>1.9</td>\n",
       "      <td>0.4</td>\n",
       "      <td>0</td>\n",
       "    </tr>\n",
       "  </tbody>\n",
       "</table>\n",
       "</div>"
      ],
      "text/plain": [
       "     sepal_length  sepal_width  petal_width  petal_length  label\n",
       "31            5.4          3.4          1.5           0.4      0\n",
       "23            5.1          3.3          1.7           0.5      0\n",
       "70            5.9          3.2          4.8           1.8      1\n",
       "100           6.3          3.3          6.0           2.5      2\n",
       "44            5.1          3.8          1.9           0.4      0"
      ]
     },
     "execution_count": 2,
     "metadata": {},
     "output_type": "execute_result"
    }
   ],
   "source": [
    "# Section 3.1\n",
    "\n",
    "import requests\n",
    "import pandas as pd\n",
    "import tensorflow as tf\n",
    "\n",
    "# Retrieve the data\n",
    "url = \"https://archive.ics.uci.edu/ml/machine-learning-databases/iris/iris.data\"\n",
    "r = requests.get(url)\n",
    "\n",
    "with open('iris.data', 'wb') as f:\n",
    "  f.write(r.content)\n",
    "\n",
    "# Read the data in\n",
    "iris_df = pd.read_csv('iris.data', header=None)\n",
    "\n",
    "# Set the column names\n",
    "iris_df.columns = ['sepal_length', 'sepal_width', 'petal_width', 'petal_length', 'label']\n",
    "print(iris_df.label.unique())\n",
    "\n",
    "# Convert labels to integers\n",
    "iris_df[\"label\"] = iris_df[\"label\"].map({'Iris-setosa':0, 'Iris-versicolor':1, 'Iris-virginica':2})\n",
    "\n",
    "# Shuffle the data\n",
    "iris_df = iris_df.sample(frac=1.0, random_state=4321)\n",
    "\n",
    "# Normalize the features by subtracting the mean\n",
    "x = iris_df[[\"sepal_length\", \"sepal_width\", \"petal_width\", \"petal_length\"]]\n",
    "x = x - x.mean(axis=0)\n",
    "\n",
    "# Converting integer labels to one-hot vectors\n",
    "y = tf.one_hot(iris_df[\"label\"], depth=3)\n",
    "\n",
    "iris_df.head()"
   ]
  },
  {
   "cell_type": "code",
   "execution_count": null,
   "metadata": {},
   "outputs": [],
   "source": [
    "print(x)\n"
   ]
  },
  {
   "cell_type": "code",
   "execution_count": null,
   "metadata": {},
   "outputs": [],
   "source": [
    "print(y)"
   ]
  },
  {
   "cell_type": "markdown",
   "metadata": {},
   "source": [
    "### Sequential API\n",
    "\n",
    "The Sequential API is the easiest to use. It can be used to define a simple model that has one input, one output and a sequence of intermediate layers in the middle.\n",
    "\n",
    "Here we are defining a model with following layers.\n",
    "\n",
    "* A `Dense` layer with 32 nodes and relu activation\n",
    "* A `Dense` layer with 16 nodes and relu activation\n",
    "* A `Dense` layer with 3 nodes and softmax activation\n",
    "\n",
    "Finally we train the model using a batch size of 64 and for 10 epochs."
   ]
  },
  {
   "cell_type": "code",
   "execution_count": null,
   "metadata": {},
   "outputs": [],
   "source": [
    "print(len(x))"
   ]
  },
  {
   "cell_type": "code",
   "execution_count": 3,
   "metadata": {},
   "outputs": [
    {
     "name": "stdout",
     "output_type": "stream",
     "text": [
      "Model: \"sequential\"\n",
      "_________________________________________________________________\n",
      " Layer (type)                Output Shape              Param #   \n",
      "=================================================================\n",
      " dense (Dense)               (None, 32)                160       \n",
      "                                                                 \n",
      " dense_1 (Dense)             (None, 16)                528       \n",
      "                                                                 \n",
      " dense_2 (Dense)             (None, 3)                 51        \n",
      "                                                                 \n",
      "=================================================================\n",
      "Total params: 739\n",
      "Trainable params: 739\n",
      "Non-trainable params: 0\n",
      "_________________________________________________________________\n",
      "150\n",
      "Epoch 1/25\n",
      "3/3 [==============================] - 1s 3ms/step - loss: 1.1774 - acc: 0.2600\n",
      "Epoch 2/25\n",
      "3/3 [==============================] - 0s 3ms/step - loss: 1.1392 - acc: 0.3000\n",
      "Epoch 3/25\n",
      "3/3 [==============================] - 0s 4ms/step - loss: 1.1060 - acc: 0.3333\n",
      "Epoch 4/25\n",
      "3/3 [==============================] - 0s 0s/step - loss: 1.0752 - acc: 0.3533\n",
      "Epoch 5/25\n",
      "3/3 [==============================] - 0s 0s/step - loss: 1.0474 - acc: 0.4800\n",
      "Epoch 6/25\n",
      "3/3 [==============================] - 0s 2ms/step - loss: 1.0208 - acc: 0.5333\n",
      "Epoch 7/25\n",
      "3/3 [==============================] - 0s 2ms/step - loss: 0.9969 - acc: 0.6333\n",
      "Epoch 8/25\n",
      "3/3 [==============================] - 0s 6ms/step - loss: 0.9733 - acc: 0.6667\n",
      "Epoch 9/25\n",
      "3/3 [==============================] - 0s 7ms/step - loss: 0.9504 - acc: 0.7267\n",
      "Epoch 10/25\n",
      "3/3 [==============================] - 0s 2ms/step - loss: 0.9293 - acc: 0.7400\n",
      "Epoch 11/25\n",
      "3/3 [==============================] - 0s 0s/step - loss: 0.9071 - acc: 0.7267\n",
      "Epoch 12/25\n",
      "3/3 [==============================] - 0s 8ms/step - loss: 0.8844 - acc: 0.7333\n",
      "Epoch 13/25\n",
      "3/3 [==============================] - 0s 617us/step - loss: 0.8618 - acc: 0.7533\n",
      "Epoch 14/25\n",
      "3/3 [==============================] - 0s 2ms/step - loss: 0.8375 - acc: 0.7467\n",
      "Epoch 15/25\n",
      "3/3 [==============================] - 0s 7ms/step - loss: 0.8141 - acc: 0.7467\n",
      "Epoch 16/25\n",
      "3/3 [==============================] - 0s 0s/step - loss: 0.7905 - acc: 0.7400\n",
      "Epoch 17/25\n",
      "3/3 [==============================] - 0s 0s/step - loss: 0.7672 - acc: 0.7400\n",
      "Epoch 18/25\n",
      "3/3 [==============================] - 0s 1ms/step - loss: 0.7438 - acc: 0.7333\n",
      "Epoch 19/25\n",
      "3/3 [==============================] - 0s 5ms/step - loss: 0.7213 - acc: 0.7333\n",
      "Epoch 20/25\n",
      "3/3 [==============================] - 0s 2ms/step - loss: 0.6990 - acc: 0.7400\n",
      "Epoch 21/25\n",
      "3/3 [==============================] - 0s 4ms/step - loss: 0.6783 - acc: 0.7467\n",
      "Epoch 22/25\n",
      "3/3 [==============================] - 0s 17ms/step - loss: 0.6564 - acc: 0.7467\n",
      "Epoch 23/25\n",
      "3/3 [==============================] - 0s 4ms/step - loss: 0.6370 - acc: 0.7467\n",
      "Epoch 24/25\n",
      "3/3 [==============================] - 0s 5ms/step - loss: 0.6182 - acc: 0.7467\n",
      "Epoch 25/25\n",
      "3/3 [==============================] - 0s 0s/step - loss: 0.5999 - acc: 0.7400\n"
     ]
    },
    {
     "data": {
      "text/plain": [
       "<keras.callbacks.History at 0x280c9dc3580>"
      ]
     },
     "execution_count": 3,
     "metadata": {},
     "output_type": "execute_result"
    }
   ],
   "source": [
    "# Section 3.1\n",
    "# Code listing 3.1\n",
    "\n",
    "from tensorflow.keras.layers import Dense\n",
    "from tensorflow.keras.models import Sequential\n",
    "import tensorflow.keras.backend as K\n",
    "\n",
    "K.clear_session() # Making sure we are clearing out the TensorFlow graph\n",
    "\n",
    "# Defining Model A with the Sequential API\n",
    "model = Sequential([\n",
    "    Dense(32, activation='relu', input_shape=(4,)),\n",
    "    Dense(16, activation='relu'),\n",
    "    Dense(3, activation='softmax')\n",
    "])\n",
    "\n",
    "# Print out a summary of the model\n",
    "model.summary() \n",
    "\n",
    "# Compiling the model with a loss function, an optimizer and a performance metric\n",
    "model.compile(loss='categorical_crossentropy', optimizer='adam', metrics=['acc'])\n",
    "\n",
    "print(len(x))\n",
    "# Fitting the model with data\n",
    "model.fit(x, y, batch_size=64, epochs=25)\n",
    "\n",
    "#(4+1) * 32 = 160\n",
    "#(32+1) * 16 = 528\n",
    "#(16+1) * 3 = 51"
   ]
  },
  {
   "cell_type": "markdown",
   "metadata": {},
   "source": [
    "### Functional API\n",
    "\n",
    "Next, the functional API lets you build more complex models. It lets you build models with parallel inputs, outputs and layers. Here, we will be using the Functional API to build a model that has two parallel `Dense` layers, a single `Dense` layer and an output `Dense` layer.\n",
    "\n",
    "We will be using two sets of inputs for this model.\n",
    "\n",
    "* The original inputs\n",
    "* PCA features (i.e. 2 pricipal components) of the original inputs"
   ]
  },
  {
   "cell_type": "markdown",
   "metadata": {},
   "source": [
    "#### Building the model\n",
    "\n",
    "Here we build the model. The model has\n",
    "\n",
    "* Two parallel input layers\n",
    "* Two parallel hidden layers\n",
    "* A layer that concatenates two outputs\n",
    "* A dense layer consuming the concatenated output\n",
    "* Final output layer "
   ]
  },
  {
   "cell_type": "code",
   "execution_count": 4,
   "metadata": {},
   "outputs": [
    {
     "name": "stdout",
     "output_type": "stream",
     "text": [
      "Model: \"model\"\n",
      "__________________________________________________________________________________________________\n",
      " Layer (type)                   Output Shape         Param #     Connected to                     \n",
      "==================================================================================================\n",
      " input_1 (InputLayer)           [(None, 4)]          0           []                               \n",
      "                                                                                                  \n",
      " input_2 (InputLayer)           [(None, 2)]          0           []                               \n",
      "                                                                                                  \n",
      " dense (Dense)                  (None, 16)           80          ['input_1[0][0]']                \n",
      "                                                                                                  \n",
      " dense_1 (Dense)                (None, 16)           48          ['input_2[0][0]']                \n",
      "                                                                                                  \n",
      " concatenate (Concatenate)      (None, 32)           0           ['dense[0][0]',                  \n",
      "                                                                  'dense_1[0][0]']                \n",
      "                                                                                                  \n",
      " dense_2 (Dense)                (None, 16)           528         ['concatenate[0][0]']            \n",
      "                                                                                                  \n",
      " dense_3 (Dense)                (None, 3)            51          ['dense_2[0][0]']                \n",
      "                                                                                                  \n",
      "==================================================================================================\n",
      "Total params: 707\n",
      "Trainable params: 707\n",
      "Non-trainable params: 0\n",
      "__________________________________________________________________________________________________\n"
     ]
    }
   ],
   "source": [
    "# Section 3.1\n",
    "# Code listing 3.2\n",
    "\n",
    "from tensorflow.keras.layers import Input, Dense, Concatenate\n",
    "from tensorflow.keras.models import Model\n",
    "import tensorflow.keras.backend as K\n",
    "\n",
    "K.clear_session() # Making sure we are clearing out the TensorFlow graph\n",
    "\n",
    "# The two input layers\n",
    "inp1 = Input(shape=(4,))\n",
    "inp2 = Input(shape=(2,))\n",
    "\n",
    "# Two parallel dense layers\n",
    "out1 = Dense(16, activation='relu')(inp1)\n",
    "out2 = Dense(16, activation='relu')(inp2)\n",
    "\n",
    "# Concatenate the two outputs from the parallel layers\n",
    "out = Concatenate(axis=1)([out1,out2])\n",
    "\n",
    "# The single dense layer\n",
    "out = Dense(16, activation='relu')(out)\n",
    "\n",
    "# The final output layer\n",
    "out = Dense(3, activation='softmax')(out)\n",
    "\n",
    "# Create and compile the model\n",
    "model = Model(inputs=[inp1, inp2], outputs=out)\n",
    "\n",
    "# Compiling the model with a loss function, an optimizer and a performance metric\n",
    "model.compile(loss='categorical_crossentropy', optimizer='adam', metrics=['acc'])\n",
    "\n",
    "model.summary()\n"
   ]
  },
  {
   "cell_type": "markdown",
   "metadata": {},
   "source": [
    "#### Compute the PCA features\n",
    "\n",
    "Here we compute the PCA features using the original data. We will only get the first two principal components."
   ]
  },
  {
   "cell_type": "code",
   "execution_count": null,
   "metadata": {},
   "outputs": [],
   "source": [
    "# Section 3.1\n",
    "\n",
    "from sklearn.decomposition import PCA\n",
    "# Defining a PCA transformer\n",
    "pca_model = PCA(n_components=2, random_state=4321)\n",
    "# Generating the PCA features from data\n",
    "x_pca = pca_model.fit_transform(x)"
   ]
  },
  {
   "cell_type": "markdown",
   "metadata": {},
   "source": [
    "#### Training the model\n",
    "\n",
    "The model is trained using a batch size of 64 and for 10 epochs."
   ]
  },
  {
   "cell_type": "code",
   "execution_count": null,
   "metadata": {},
   "outputs": [],
   "source": [
    "# Section 3.1\n",
    "\n",
    "# Fitting the model with data\n",
    "model.fit([x, x_pca], y, batch_size=64, epochs=25)"
   ]
  },
  {
   "cell_type": "markdown",
   "metadata": {},
   "source": [
    "#### Plotting the network\n",
    "\n",
    "We can plot a network graph of the model we have built as follows."
   ]
  },
  {
   "cell_type": "code",
   "execution_count": 5,
   "metadata": {},
   "outputs": [
    {
     "data": {
      "image/png": "[encoded data removed]",
      "text/plain": [
       "<IPython.core.display.Image object>"
      ]
     },
     "execution_count": 5,
     "metadata": {},
     "output_type": "execute_result"
    }
   ],
   "source": [
    "# Section 3.1\n",
    "import tensorflow as tf\n",
    "import pydot\n",
    "\n",
    "tf.keras.utils.plot_model(model, show_shapes=True)"
   ]
  },
  {
   "cell_type": "markdown",
   "metadata": {},
   "source": [
    "### Sub-classing API\n",
    "\n",
    "The sub-classing API is considered the hardest to wield, as it requires creating a Python class for the layer or model you want to sub-class. But the added benefit is that you can implement custom computations as sub-classed objects and reuse them in a very convenient manner to create complex models.\n",
    "\n",
    "In this exercise, we are creating a custom version of the `Dense` layer which has a multiplicative bias in addition to the additive bias. In other words, we will be implementing a new layer called `MulBiasDense` which does the following computation.\n",
    "\n",
    "$h = \\text{Activation}(xW + b \\times b_{mul})$"
   ]
  },
  {
   "cell_type": "markdown",
   "metadata": {},
   "source": [
    "#### Defining the custom layer\n",
    "\n",
    "Here we define the new custom layer. This layer has three parameters (i.e. `w`, `b` and `b_mul`). When defining the new layer we need to define three important functions.\n",
    "\n",
    "* `__init__`\n",
    "* `build`\n",
    "* `call`"
   ]
  },
  {
   "cell_type": "code",
   "execution_count": 6,
   "metadata": {},
   "outputs": [],
   "source": [
    "# Section 3.1\n",
    "# Code listing 3.3\n",
    "\n",
    "from tensorflow.keras import layers\n",
    "\n",
    "class MulBiasDense(layers.Layer):\n",
    "    \"\"\" The layer with the new multiplicative bias we want to test \"\"\"\n",
    "    \n",
    "    def __init__(self, units=32, activation=None):\n",
    "        \"\"\" Defines various hyperparameters of the layer\"\"\"\n",
    "        \n",
    "        super(MulBiasDense, self).__init__()\n",
    "        self.units = units\n",
    "        self.activation = activation\n",
    "    \n",
    "    def build(self, input_shape):\n",
    "        \"\"\" Defines the parameters (weights and biases)\"\"\"\n",
    "        \n",
    "        self.w = self.add_weight(shape=(input_shape[-1], self.units),\n",
    "                                 initializer='glorot_uniform',\n",
    "                                 trainable=True)\n",
    "        self.b = self.add_weight(shape=(self.units,),\n",
    "                                 initializer='glorot_uniform',\n",
    "                                 trainable=True)\n",
    "        self.b_mul = self.add_weight(shape=(self.units,),\n",
    "                                     initializer='glorot_uniform',\n",
    "                                     trainable=True)\n",
    "\n",
    "    def call(self, inputs):\n",
    "        \"\"\" Defines the computations that happen in the layer\"\"\"\n",
    "        \n",
    "        out = (tf.matmul(inputs, self.w) + self.b) * self.b_mul\n",
    "        return layers.Activation(self.activation)(out)\n",
    "        \n"
   ]
  },
  {
   "cell_type": "markdown",
   "metadata": {},
   "source": [
    "#### Defining the model\n",
    "\n",
    "Here we define the model using the `MulBiasDense` layer we just created."
   ]
  },
  {
   "cell_type": "code",
   "execution_count": 7,
   "metadata": {},
   "outputs": [
    {
     "name": "stdout",
     "output_type": "stream",
     "text": [
      "Model: \"model\"\n",
      "_________________________________________________________________\n",
      " Layer (type)                Output Shape              Param #   \n",
      "=================================================================\n",
      " input_1 (InputLayer)        [(None, 4)]               0         \n",
      "                                                                 \n",
      " mul_bias_dense (MulBiasDens  (None, 32)               192       \n",
      " e)                                                              \n",
      "                                                                 \n",
      " mul_bias_dense_1 (MulBiasDe  (None, 16)               544       \n",
      " nse)                                                            \n",
      "                                                                 \n",
      " dense (Dense)               (None, 3)                 51        \n",
      "                                                                 \n",
      "=================================================================\n",
      "Total params: 787\n",
      "Trainable params: 787\n",
      "Non-trainable params: 0\n",
      "_________________________________________________________________\n"
     ]
    }
   ],
   "source": [
    "# Seciton 3.1\n",
    "# Code listing 3.4\n",
    "\n",
    "from tensorflow.keras.layers import Input, Dense, Concatenate\n",
    "from tensorflow.keras.models import Model\n",
    "import tensorflow.keras.backend as K\n",
    "import tensorflow as tf\n",
    "\n",
    "K.clear_session() # Making sure we are clearing out the TensorFlow graph\n",
    "\n",
    "# The input layer\n",
    "inp = Input(shape=(4,))\n",
    "\n",
    "# Using the newly defined MulBiasDense layer to create two layers\n",
    "out = MulBiasDense(units=32, activation='relu')(inp)\n",
    "out = MulBiasDense(units=16, activation='relu')(out)\n",
    "\n",
    "# The softmax layer\n",
    "out = Dense(3, activation='softmax')(out)\n",
    "\n",
    "model = Model(inputs=inp, outputs=out)\n",
    "# Compiling the model with a loss function, an optimizer and a performance metric\n",
    "model.compile(loss='categorical_crossentropy', optimizer='adam', metrics=['acc'])\n",
    "\n",
    "model.summary()\n"
   ]
  },
  {
   "cell_type": "markdown",
   "metadata": {},
   "source": [
    "#### Training the model\n",
    "\n",
    "We are training the model using a batch size of 64 for 10 epochs."
   ]
  },
  {
   "cell_type": "code",
   "execution_count": 8,
   "metadata": {},
   "outputs": [
    {
     "name": "stdout",
     "output_type": "stream",
     "text": [
      "Epoch 1/25\n",
      "3/3 [==============================] - 0s 0s/step - loss: 1.0982 - acc: 0.6667\n",
      "Epoch 2/25\n",
      "3/3 [==============================] - 0s 17ms/step - loss: 1.0971 - acc: 0.6667\n",
      "Epoch 3/25\n",
      "3/3 [==============================] - 0s 4ms/step - loss: 1.0962 - acc: 0.6667\n",
      "Epoch 4/25\n",
      "3/3 [==============================] - 0s 2ms/step - loss: 1.0953 - acc: 0.6667\n",
      "Epoch 5/25\n",
      "3/3 [==============================] - 0s 7ms/step - loss: 1.0944 - acc: 0.6667\n",
      "Epoch 6/25\n",
      "3/3 [==============================] - 0s 0s/step - loss: 1.0935 - acc: 0.6667\n",
      "Epoch 7/25\n",
      "3/3 [==============================] - 0s 2ms/step - loss: 1.0926 - acc: 0.6667\n",
      "Epoch 8/25\n",
      "3/3 [==============================] - 0s 3ms/step - loss: 1.0916 - acc: 0.6667\n",
      "Epoch 9/25\n",
      "3/3 [==============================] - 0s 0s/step - loss: 1.0906 - acc: 0.6667\n",
      "Epoch 10/25\n",
      "3/3 [==============================] - 0s 4ms/step - loss: 1.0894 - acc: 0.6667\n",
      "Epoch 11/25\n",
      "3/3 [==============================] - 0s 4ms/step - loss: 1.0881 - acc: 0.6667\n",
      "Epoch 12/25\n",
      "3/3 [==============================] - 0s 1ms/step - loss: 1.0866 - acc: 0.6667\n",
      "Epoch 13/25\n",
      "3/3 [==============================] - 0s 4ms/step - loss: 1.0850 - acc: 0.6667\n",
      "Epoch 14/25\n",
      "3/3 [==============================] - 0s 4ms/step - loss: 1.0830 - acc: 0.6800\n",
      "Epoch 15/25\n",
      "3/3 [==============================] - 0s 2ms/step - loss: 1.0808 - acc: 0.6867\n",
      "Epoch 16/25\n",
      "3/3 [==============================] - 0s 2ms/step - loss: 1.0783 - acc: 0.6800\n",
      "Epoch 17/25\n",
      "3/3 [==============================] - 0s 3ms/step - loss: 1.0756 - acc: 0.6800\n",
      "Epoch 18/25\n",
      "3/3 [==============================] - 0s 4ms/step - loss: 1.0724 - acc: 0.6800\n",
      "Epoch 19/25\n",
      "3/3 [==============================] - 0s 0s/step - loss: 1.0690 - acc: 0.6800\n",
      "Epoch 20/25\n",
      "3/3 [==============================] - 0s 2ms/step - loss: 1.0651 - acc: 0.7000\n",
      "Epoch 21/25\n",
      "3/3 [==============================] - 0s 6ms/step - loss: 1.0611 - acc: 0.7133\n",
      "Epoch 22/25\n",
      "3/3 [==============================] - 0s 1ms/step - loss: 1.0564 - acc: 0.7133\n",
      "Epoch 23/25\n",
      "3/3 [==============================] - 0s 5ms/step - loss: 1.0514 - acc: 0.7133\n",
      "Epoch 24/25\n",
      "3/3 [==============================] - 0s 0s/step - loss: 1.0460 - acc: 0.7200\n",
      "Epoch 25/25\n",
      "3/3 [==============================] - 0s 1ms/step - loss: 1.0400 - acc: 0.7200\n"
     ]
    },
    {
     "data": {
      "text/plain": [
       "<keras.callbacks.History at 0x280cafe3ca0>"
      ]
     },
     "execution_count": 8,
     "metadata": {},
     "output_type": "execute_result"
    }
   ],
   "source": [
    "# Section 3.1\n",
    "# Fitting the model with data\n",
    "model.fit(x, y, batch_size=64, epochs=25)"
   ]
  },
  {
   "cell_type": "code",
   "execution_count": null,
   "metadata": {},
   "outputs": [],
   "source": []
  }
 ],
 "metadata": {
  "kernelspec": {
   "display_name": "Python 3 (ipykernel)",
   "language": "python",
   "name": "python3"
  },
  "language_info": {
   "codemirror_mode": {
    "name": "ipython",
    "version": 3
   },
   "file_extension": ".py",
   "mimetype": "text/x-python",
   "name": "python",
   "nbconvert_exporter": "python",
   "pygments_lexer": "ipython3",
   "version": "3.9.18"
  }
 },
 "nbformat": 4,
 "nbformat_minor": 4
}
